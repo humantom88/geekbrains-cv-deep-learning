{
 "cells": [
  {
   "cell_type": "markdown",
   "source": [
    "# Практическое задание к уроку 2 \"Сверточные нейронные сети (СНС)\""
   ],
   "metadata": {}
  },
  {
   "cell_type": "markdown",
   "source": [
    "Реализовать и обучить (с нуля) СНС для задачи классификации изображений на датасете CIFAR-10\n",
    "Библиотеки: [Python, Tensorflow]"
   ],
   "metadata": {}
  },
  {
   "cell_type": "code",
   "execution_count": null,
   "source": [
    "import numpy as np\n",
    "import tensorflow as tf\n",
    "from tensorflow.keras import layers, models"
   ],
   "outputs": [],
   "metadata": {}
  },
  {
   "cell_type": "code",
   "execution_count": 3,
   "source": [
    "train, test = tf.keras.datasets.cifar10.load_data()\n",
    "\n",
    "train_x, train_y = train\n",
    "test_x, test_y = test\n",
    "\n",
    "train_x = train_x.reshape(-1, 32, 32, 3).astype(np.float32) / 255.\n",
    "test_x = test_x.reshape(-1, 32, 32, 3).astype(np.float32) / 255.\n",
    "train_y = train_y.astype(np.int32)\n",
    "test_y = test_y.astype(np.int32)\n",
    "\n",
    "print(train_x.shape, train_x.dtype)\n",
    "print(test_x.shape, test_x.dtype)\n",
    "print(train_y.shape, train_y.dtype)\n",
    "print(test_y.shape, test_y.dtype)"
   ],
   "outputs": [
    {
     "output_type": "stream",
     "name": "stdout",
     "text": [
      "Downloading data from https://www.cs.toronto.edu/~kriz/cifar-10-python.tar.gz\n",
      "170500096/170498071 [==============================] - 535s 3us/step\n",
      "(50000, 32, 32, 3) float32\n",
      "(10000, 32, 32, 3) float32\n",
      "(50000, 1) int32\n",
      "(10000, 1) int32\n"
     ]
    }
   ],
   "metadata": {}
  },
  {
   "cell_type": "code",
   "execution_count": 4,
   "source": [
    "classes = {\n",
    "  0: 'airplane',\n",
    "  1: 'automobile',\n",
    "  2: 'bird',\n",
    "  3: 'cat',\n",
    "  4: 'deer',\n",
    "  5: 'dog',\n",
    "  6: 'frog',\n",
    "  7: 'horse',\n",
    "  8: 'ship',\n",
    "  9: 'truck',\n",
    "}"
   ],
   "outputs": [],
   "metadata": {}
  },
  {
   "cell_type": "code",
   "execution_count": 9,
   "source": [
    "EPOCH_QUANTITY = 4\n",
    "BATCH_SIZE = 256\n",
    "\n",
    "ds_train = tf.data.Dataset.from_tensor_slices((train_x, train_y))\n",
    "\n",
    "ds_train = ds_train.shuffle(buffer_size=train_x.shape[0])\n",
    "\n",
    "ds_train = ds_train.repeat(EPOCH_QUANTITY)\n",
    "ds_train = ds_train.batch(BATCH_SIZE)"
   ],
   "outputs": [],
   "metadata": {}
  },
  {
   "cell_type": "code",
   "execution_count": 5,
   "source": [
    "dropout_layer = tf.keras.layers.Dropout(.2, input_shape=(2,))"
   ],
   "outputs": [],
   "metadata": {}
  },
  {
   "cell_type": "code",
   "execution_count": 6,
   "source": [
    "def make_model():\n",
    "  # Model Type\n",
    "  model = models.Sequential()\n",
    "  \n",
    "  # Processing Layers\n",
    "  model.add(layers.Conv2D(32, (3, 3), activation='relu', padding='same', input_shape=(32, 32, 3)))\n",
    "  model.add(layers.MaxPooling2D((2, 2)))\n",
    "  model.add(layers.Conv2D(64, (3, 3), padding='same', activation='relu'))\n",
    "  model.add(layers.MaxPooling2D((2, 2)))\n",
    "  model.add(layers.Conv2D(64, (3, 3), padding='same', activation='relu'))\n",
    "  model.add(layers.Flatten())\n",
    "  \n",
    "  # Dropout\n",
    "  model.add(dropout_layer)\n",
    "  \n",
    "  # Denses\n",
    "  model.add(layers.Dense(256, activation='relu'))\n",
    "  model.add(layers.Dense(10, activation='softmax'))\n",
    "  \n",
    "  # Metrics\n",
    "  model.compile(\n",
    "    optimizer='adam',\n",
    "    loss=tf.keras.losses.SparseCategoricalCrossentropy(from_logits=True),\n",
    "    metrics=['accuracy']\n",
    "  )\n",
    "\n",
    "  return model"
   ],
   "outputs": [],
   "metadata": {}
  },
  {
   "cell_type": "code",
   "execution_count": 7,
   "source": [
    "model = make_model()"
   ],
   "outputs": [],
   "metadata": {}
  },
  {
   "cell_type": "code",
   "execution_count": 10,
   "source": [
    "history = model.fit(\n",
    "  train_x,\n",
    "  train_y,\n",
    "  epochs=EPOCH_QUANTITY, \n",
    "  validation_data=(test_x, test_y)\n",
    ")"
   ],
   "outputs": [
    {
     "output_type": "stream",
     "name": "stdout",
     "text": [
      "Epoch 1/4\n"
     ]
    },
    {
     "output_type": "stream",
     "name": "stderr",
     "text": [
      "/Users/tombelov/opt/miniconda3/lib/python3.9/site-packages/tensorflow/python/keras/backend.py:4929: UserWarning: \"`sparse_categorical_crossentropy` received `from_logits=True`, but the `output` argument was produced by a sigmoid or softmax activation and thus does not represent logits. Was this intended?\"\n",
      "  warnings.warn(\n"
     ]
    },
    {
     "output_type": "stream",
     "name": "stdout",
     "text": [
      "1563/1563 [==============================] - 41s 26ms/step - loss: 1.4006 - accuracy: 0.4933 - val_loss: 1.0589 - val_accuracy: 0.6179\n",
      "Epoch 2/4\n",
      "1563/1563 [==============================] - 41s 26ms/step - loss: 0.9983 - accuracy: 0.6439 - val_loss: 0.9258 - val_accuracy: 0.6727\n",
      "Epoch 3/4\n",
      "1563/1563 [==============================] - 41s 26ms/step - loss: 0.8314 - accuracy: 0.7080 - val_loss: 0.8617 - val_accuracy: 0.7024\n",
      "Epoch 4/4\n",
      "1563/1563 [==============================] - 40s 26ms/step - loss: 0.7148 - accuracy: 0.7486 - val_loss: 0.8086 - val_accuracy: 0.7235\n"
     ]
    }
   ],
   "metadata": {}
  },
  {
   "cell_type": "code",
   "execution_count": 11,
   "source": [
    "from matplotlib import pyplot as plt\n",
    "\n",
    "plt.plot(history.history['accuracy'], label='accuracy')\n",
    "plt.plot(history.history['val_accuracy'], label = 'val_accuracy')\n",
    "\n",
    "plt.ylim([0.5, 1])\n",
    "\n",
    "plt.legend(loc='lower right')"
   ],
   "outputs": [
    {
     "output_type": "execute_result",
     "data": {
      "text/plain": [
       "<matplotlib.legend.Legend at 0x7fc2de47ef10>"
      ]
     },
     "metadata": {},
     "execution_count": 11
    },
    {
     "output_type": "display_data",
     "data": {
      "image/png": "[encoded data removed]",
      "text/plain": [
       "<Figure size 432x288 with 1 Axes>"
      ]
     },
     "metadata": {
      "needs_background": "light"
     }
    }
   ],
   "metadata": {}
  },
  {
   "cell_type": "code",
   "execution_count": 18,
   "source": [
    "image = test_x[1, ...]\n",
    "\n",
    "logits = model(image[None, ...])[0]\n",
    "prediction = tf.nn.softmax(logits)\n",
    "ans = np.argmax(prediction)\n",
    "\n",
    "fig = plt.figure(figsize=(12,4))\n",
    "\n",
    "plt.imshow(image[:,:,:])\n",
    "plt.xticks([]), plt.yticks([])\n",
    "\n",
    "plt.show()\n",
    "print(f'It\\'s a': {ans} {classes[ans]}')"
   ],
   "outputs": [
    {
     "output_type": "display_data",
     "data": {
      "image/png": "[encoded data removed]",
      "text/plain": [
       "<Figure size 864x288 with 1 Axes>"
      ]
     },
     "metadata": {}
    },
    {
     "output_type": "stream",
     "name": "stdout",
     "text": [
      "Предсказание: 8 ship\n"
     ]
    }
   ],
   "metadata": {}
  },
  {
   "cell_type": "code",
   "execution_count": 19,
   "source": [],
   "outputs": [
    {
     "output_type": "execute_result",
     "data": {
      "text/plain": [
       "'ship'"
      ]
     },
     "metadata": {},
     "execution_count": 19
    }
   ],
   "metadata": {}
  },
  {
   "cell_type": "code",
   "execution_count": null,
   "source": [],
   "outputs": [],
   "metadata": {}
  }
 ],
 "metadata": {
  "orig_nbformat": 4,
  "language_info": {
   "name": "python",
   "version": "3.9.1",
   "mimetype": "text/x-python",
   "codemirror_mode": {
    "name": "ipython",
    "version": 3
   },
   "pygments_lexer": "ipython3",
   "nbconvert_exporter": "python",
   "file_extension": ".py"
  },
  "kernelspec": {
   "name": "python3",
   "display_name": "Python 3.9.1 64-bit ('base': conda)"
  },
  "interpreter": {
   "hash": "5822cce0dfea77bd1b5b649d2f91871660e133f67e755bca28128586ccbc8559"
  }
 },
 "nbformat": 4,
 "nbformat_minor": 2
}